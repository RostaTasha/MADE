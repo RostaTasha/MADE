{
  "nbformat": 4,
  "nbformat_minor": 0,
  "metadata": {
    "colab": {
      "name": "HA3.ipynb",
      "provenance": [],
      "collapsed_sections": []
    },
    "kernelspec": {
      "name": "python3",
      "display_name": "Python 3"
    },
    "language_info": {
      "name": "python"
    }
  },
  "cells": [
    {
      "cell_type": "code",
      "execution_count": 224,
      "metadata": {
        "id": "JuohmfkAUeZQ"
      },
      "outputs": [],
      "source": [
        "import os\n",
        "import shutil\n",
        "import string\n",
        "from enum import Enum\n",
        "from collections import Counter\n",
        "import random\n",
        "import numpy as np\n",
        "from copy import copy"
      ]
    },
    {
      "cell_type": "code",
      "source": [
        "!wget https://www.dropbox.com/s/k23enjvr3fb40o5/corpora.zip "
      ],
      "metadata": {
        "colab": {
          "base_uri": "https://localhost:8080/"
        },
        "id": "NtW35_TzZYxQ",
        "outputId": "69c5290f-1d33-43da-fcd2-43117f600c52"
      },
      "execution_count": null,
      "outputs": [
        {
          "output_type": "stream",
          "name": "stdout",
          "text": [
            "--2022-05-08 12:18:41--  https://www.dropbox.com/s/k23enjvr3fb40o5/corpora.zip\n",
            "Resolving www.dropbox.com (www.dropbox.com)... 162.125.85.18, 2620:100:6017:18::a27d:212\n",
            "Connecting to www.dropbox.com (www.dropbox.com)|162.125.85.18|:443... connected.\n",
            "HTTP request sent, awaiting response... 301 Moved Permanently\n",
            "Location: /s/raw/k23enjvr3fb40o5/corpora.zip [following]\n",
            "--2022-05-08 12:18:41--  https://www.dropbox.com/s/raw/k23enjvr3fb40o5/corpora.zip\n",
            "Reusing existing connection to www.dropbox.com:443.\n",
            "HTTP request sent, awaiting response... 302 Found\n",
            "Location: https://uc3d03e0483cd87a2a189421f912.dl.dropboxusercontent.com/cd/0/inline/Bk7HqdpPfElGFdvECNM4rVN70uqCyKvDM6tnuRpYt1TzIKfN7VoOSCDe9xUTi7kyfre8E_HboPYyoAmKu5eevmMGOOE378Lhug20z03u4fqU3pC4JGJTHrR-qsVr1aDmgwE5VJghkWTqqz8HdI2jkWGduKPz95bsve_7r6KhGuAZ8w/file# [following]\n",
            "--2022-05-08 12:18:41--  https://uc3d03e0483cd87a2a189421f912.dl.dropboxusercontent.com/cd/0/inline/Bk7HqdpPfElGFdvECNM4rVN70uqCyKvDM6tnuRpYt1TzIKfN7VoOSCDe9xUTi7kyfre8E_HboPYyoAmKu5eevmMGOOE378Lhug20z03u4fqU3pC4JGJTHrR-qsVr1aDmgwE5VJghkWTqqz8HdI2jkWGduKPz95bsve_7r6KhGuAZ8w/file\n",
            "Resolving uc3d03e0483cd87a2a189421f912.dl.dropboxusercontent.com (uc3d03e0483cd87a2a189421f912.dl.dropboxusercontent.com)... 162.125.81.15, 2620:100:6017:15::a27d:20f\n",
            "Connecting to uc3d03e0483cd87a2a189421f912.dl.dropboxusercontent.com (uc3d03e0483cd87a2a189421f912.dl.dropboxusercontent.com)|162.125.81.15|:443... connected.\n",
            "HTTP request sent, awaiting response... 302 Found\n",
            "Location: /cd/0/inline2/Bk7jNoH4vFLFGPR6u6pHdZetG7dlbhjd23QHA5tS3jZCjCmWW-LB3o_AYt7uzHiRAZDre4C1EzExXyKLHHXeO-a2OYXJ_B1uasPdSfjIEgoY9k1a63i8ybApX3DiPUP_UM94mxqVsnZWUwQI-Mdyp9rf11pX344yPMKTg-9R-dieyiSjRnc6IKSl3lHwhf9X6piFwvFLybu71Dry4WUFvZHpmu6WrCxPnt_Vy-C_5otL9t2VJ3I0NHK614-mb51E3HBsftNWazynARkxdIvZ5mGIuGo4KkTGXb3io6lvjr7c_bx4QmY-hPWaX2VoFXPN9CRbc5AUI9GLucbHLDYt-TBXRT0rZXc05KSvnZck3su7VvtobPuhXiKEKSGaSMbS2rejpHsSywE0v-E6WzIw5jRF-V6AViG8s0OmhKJRo_54gw/file [following]\n",
            "--2022-05-08 12:18:42--  https://uc3d03e0483cd87a2a189421f912.dl.dropboxusercontent.com/cd/0/inline2/Bk7jNoH4vFLFGPR6u6pHdZetG7dlbhjd23QHA5tS3jZCjCmWW-LB3o_AYt7uzHiRAZDre4C1EzExXyKLHHXeO-a2OYXJ_B1uasPdSfjIEgoY9k1a63i8ybApX3DiPUP_UM94mxqVsnZWUwQI-Mdyp9rf11pX344yPMKTg-9R-dieyiSjRnc6IKSl3lHwhf9X6piFwvFLybu71Dry4WUFvZHpmu6WrCxPnt_Vy-C_5otL9t2VJ3I0NHK614-mb51E3HBsftNWazynARkxdIvZ5mGIuGo4KkTGXb3io6lvjr7c_bx4QmY-hPWaX2VoFXPN9CRbc5AUI9GLucbHLDYt-TBXRT0rZXc05KSvnZck3su7VvtobPuhXiKEKSGaSMbS2rejpHsSywE0v-E6WzIw5jRF-V6AViG8s0OmhKJRo_54gw/file\n",
            "Reusing existing connection to uc3d03e0483cd87a2a189421f912.dl.dropboxusercontent.com:443.\n",
            "HTTP request sent, awaiting response... 200 OK\n",
            "Length: 2434585 (2.3M) [application/zip]\n",
            "Saving to: ‘corpora.zip.1’\n",
            "\n",
            "corpora.zip.1       100%[===================>]   2.32M  5.70MB/s    in 0.4s    \n",
            "\n",
            "2022-05-08 12:18:43 (5.70 MB/s) - ‘corpora.zip.1’ saved [2434585/2434585]\n",
            "\n"
          ]
        }
      ]
    },
    {
      "cell_type": "code",
      "source": [
        "shutil.unpack_archive(\"corpora.zip\", \"./data\")"
      ],
      "metadata": {
        "id": "3XO1smVAdmMr"
      },
      "execution_count": null,
      "outputs": []
    },
    {
      "cell_type": "code",
      "source": [
        "with open(os.path.join('data', 'AnnaKarenina.txt'), 'r') as f:\n",
        "    anna_karenina = f.read()\n",
        "with open(os.path.join('data', 'WarAndPeace.txt'), 'r') as f:\n",
        "    war_and_peace = f.read()\n",
        "\n",
        "with open(os.path.join('data', 'WarAndPeaceEng.txt'), 'r') as f:\n",
        "    war_and_peace_eng = f.read()\n",
        "\n",
        "train_text_en = war_and_peace_eng\n",
        "train_text_ru = anna_karenina + war_and_peace"
      ],
      "metadata": {
        "id": "T1oq0uIJhE14"
      },
      "execution_count": 399,
      "outputs": []
    },
    {
      "cell_type": "code",
      "source": [
        "class Language(Enum):\n",
        "  RU = 1\n",
        "  EN = 2"
      ],
      "metadata": {
        "id": "NeRFebIHt-th"
      },
      "execution_count": 400,
      "outputs": []
    },
    {
      "cell_type": "markdown",
      "source": [
        "## Basic"
      ],
      "metadata": {
        "id": "z8e6B5gEigLs"
      }
    },
    {
      "cell_type": "code",
      "source": [
        "class FrequencyTransformer:\n",
        "   ENG_ALPHABET = string.ascii_lowercase + ' '\n",
        "   RU_ALPHABET = 'абвгдеёжзийклмнопрстуфхцчшщъыьэюя' + ' '\n",
        "   \n",
        "   def __init__(self):\n",
        "        self.corpus = None\n",
        "        self.n_gram_size = None\n",
        "        self.freq_dict = None\n",
        "\n",
        "   def fit(self, text: str, language: Language, n_gram_size: int = 1):\n",
        "        self.corpus = FrequencyTransformer.ENG_ALPHABET if language == Language.EN else FrequencyTransformer.RU_ALPHABET\n",
        "        self.n_gram_size = n_gram_size\n",
        "        temp = self._preprocess(text)\n",
        "        n_grams = self._get_ngrams(temp)\n",
        "        self.freq_dict = self._get_counter_dict(n_grams)\n",
        "\n",
        "        return self\n",
        "        \n",
        "   def decode(self, text: str) -> str:\n",
        "        temp =  self._preprocess(text)\n",
        "        temp =  temp  + ' ' * (len(temp) % self.n_gram_size)\n",
        "        n_grams = self._get_ngrams(temp)\n",
        "        encoded_dict = self._get_counter_dict(n_grams)\n",
        "        mapper = {}\n",
        "        for d1, d2 in zip(encoded_dict.items(), self.freq_dict.items()):\n",
        "            ng1 = d1[0]\n",
        "            ng2 = d2[0] \n",
        "            mapper[ng1] = ng2\n",
        "        return ''.join([mapper[ng] for ng in n_grams])[:len(temp)]\n",
        "\n",
        "   def _get_ngrams(self, text):\n",
        "        return [text[i:i+self.n_gram_size] for i in range(len(text) - self.n_gram_size + 1)]\n",
        "  \n",
        "   def _get_counter_dict(self, ngrams):\n",
        "        return {k: v for k, v in sorted(Counter(ngrams).items(), key=lambda item: item[1], reverse=True)}\n",
        "\n",
        "   def _preprocess(self, text: str):\n",
        "        return ''.join([c for c in text.lower() if c in self.corpus])\n"
      ],
      "metadata": {
        "id": "bvIw0PPVnFG2"
      },
      "execution_count": 401,
      "outputs": []
    },
    {
      "cell_type": "code",
      "source": [
        "class Encoder:\n",
        "   ENG_ALPHABET = string.ascii_lowercase + ' '\n",
        "   RU_ALPHABET = 'абвгдеёжзийклмнопрстуфхцчшщъыьэюя' + ' '\n",
        "   \n",
        "   def __init__(self):\n",
        "        self.alphabet = None\n",
        "\n",
        "   def fit(self, language: Language, filter_only=False):\n",
        "        self.alphabet = FrequencyTransformer.ENG_ALPHABET if language == Language.EN else FrequencyTransformer.RU_ALPHABET\n",
        "        self.filter_only = filter_only\n",
        "        \n",
        "        return self\n",
        "\n",
        "\n",
        "   def encode(self, text: str) -> str:\n",
        "        temp =  self._preprocess(text)\n",
        "        alphabet_shuffled = ''.join(random.sample(self.alphabet,len(self.alphabet)))\n",
        "        map = {}\n",
        "        for c1, c2 in zip(self.alphabet, alphabet_shuffled):\n",
        "          map[c1] = c2 if not self.filter_only else c1\n",
        "        return ''.join([map[c] for c in temp])\n",
        "\n",
        "   def _preprocess(self, text: str):\n",
        "        return ''.join([c for c in text.lower() if c in self.alphabet]) "
      ],
      "metadata": {
        "id": "n1QS9l4OUwue"
      },
      "execution_count": 402,
      "outputs": []
    },
    {
      "cell_type": "code",
      "source": [
        "text = '''\n",
        "Глаза Степана Аркадьича весело заблестели, и он задумался, улыбаясь. «Да, хорошо было, очень хорошо. Много еще что-то там было отличного, да не скажешь словами и мыслями даже наяву не выразишь». И, заметив полосу света, пробившуюся сбоку одной из суконных стор, он весело скинул ноги с дивана, отыскал ими шитые женой (подарок ко дню рождения в прошлом году), обделанные в золотистый сафьян туфли и по старой, девятилетней привычке, не вставая, потянулся рукой к тому месту, где в спальне у него висел халат. И тут он вспомнил вдруг, как и почему он спит не в спальне жены, а в кабинете; улыбка исчезла с его лица, он сморщил лоб.\n",
        "'''\n",
        "text = Encoder().fit(Language.RU, filter_only=True).encode(text)\n",
        "text"
      ],
      "metadata": {
        "id": "hSM7qeX5w9LQ",
        "colab": {
          "base_uri": "https://localhost:8080/",
          "height": 89
        },
        "outputId": "70a45eb1-42be-42d3-d03c-ace67609f28f"
      },
      "execution_count": 403,
      "outputs": [
        {
          "output_type": "execute_result",
          "data": {
            "text/plain": [
              "'глаза степана аркадьича весело заблестели и он задумался улыбаясь да хорошо было очень хорошо много еще чтото там было отличного да не скажешь словами и мыслями даже наяву не выразишь и заметив полосу света пробившуюся сбоку одной из суконных стор он весело скинул ноги с дивана отыскал ими шитые женой подарок ко дню рождения в прошлом году обделанные в золотистый сафьян туфли и по старой девятилетней привычке не вставая потянулся рукой к тому месту где в спальне у него висел халат и тут он вспомнил вдруг как и почему он спит не в спальне жены а в кабинете улыбка исчезла с его лица он сморщил лоб'"
            ],
            "application/vnd.google.colaboratory.intrinsic+json": {
              "type": "string"
            }
          },
          "metadata": {},
          "execution_count": 403
        }
      ]
    },
    {
      "cell_type": "code",
      "source": [
        "def accuracy(ground_truth : str, result : str):\n",
        "    return sum([i==j for (i, j) in zip(ground_truth, result)])/len(ground_truth)"
      ],
      "metadata": {
        "id": "RuTmhuTEfiCz"
      },
      "execution_count": 405,
      "outputs": []
    },
    {
      "cell_type": "code",
      "source": [
        "encoder = Encoder().fit(Language.RU)\n",
        "\n",
        "text_encoded = encoder.encode(text)\n",
        "text_encoded"
      ],
      "metadata": {
        "colab": {
          "base_uri": "https://localhost:8080/",
          "height": 89
        },
        "id": "Up9MURWiUEzh",
        "outputId": "1cd03f98-9c43-4f86-c837-ea1c9a481a3c"
      },
      "execution_count": 406,
      "outputs": [
        {
          "output_type": "execute_result",
          "data": {
            "text/plain": [
              "'вькюкцлбядкёкцкоукшэыскцтяляьйцюкжьялбяьыцыцйёцюкшфакьлгцфьржкглэцшкцийойъйцжрьйцйсяёэцийойъйцаёйвйцяпяцсбйбйцбкацжрьйцйбьысёйвйцшкцёяцлукзяъэцльйткаыцыцарльгаыцшкзяцёкгтфцёяцтрокюыъэцыцюкаябытцдйьйлфцлтябкцдойжытъфхлгцлжйуфцйшёйецыюцлфуйёёрицлбйоцйёцтяляьйцлуыёфьцёйвыцлцшыткёкцйбрлукьцыаыцъыбряцзяёйецдйшкойуцуйцшёхцойзшяёыгцтцдойъьйацвйшфцйжшяькёёряцтцюйьйбылбрецлк эгёцбф ьыцыцдйцлбкойецшятгбыьябёяецдоытрсуяцёяцтлбкткгцдйбгёфьлгцофуйецуцбйафцаялбфцвшяцтцлдкьэёяцфцёявйцтыляьцикькбцыцбфбцйёцтлдйаёыьцтшофвцукуцыцдйсяафцйёцлдыбцёяцтцлдкьэёяцзяёрцкцтцукжыёябяцфьржукцылсяюькцлцявйцьымкцйёцлайопыьцьйж'"
            ],
            "application/vnd.google.colaboratory.intrinsic+json": {
              "type": "string"
            }
          },
          "metadata": {},
          "execution_count": 406
        }
      ]
    },
    {
      "cell_type": "markdown",
      "source": [
        "### Unogramm"
      ],
      "metadata": {
        "id": "Ff-gjnS_fbLW"
      }
    },
    {
      "cell_type": "code",
      "source": [
        "transformer = FrequencyTransformer().fit(train_text_ru, Language.RU, 1)"
      ],
      "metadata": {
        "id": "5iqkdI7wOxmc"
      },
      "execution_count": 407,
      "outputs": []
    },
    {
      "cell_type": "code",
      "source": [
        "decoded = transformer.decode(text_encoded)\n",
        "decoded"
      ],
      "metadata": {
        "colab": {
          "base_uri": "https://localhost:8080/",
          "height": 89
        },
        "id": "7PobBsXYRXZX",
        "outputId": "1ed71f89-0419-4edf-ab2a-33def56d18a9"
      },
      "execution_count": 408,
      "outputs": [
        {
          "output_type": "execute_result",
          "data": {
            "text/plain": [
              "'ысебе тлапене емкедзиче ватасо бегсатласи и он бедруесть рсягеьтз де хоможо гясо очанз хоможо уноыо аюа члоло леу гясо олсичноыо де на ткешажз тсовеуи и уятсьуи деша неьвр на вямебижз и беуалив посотр твале пмогивжрэть тгокр одной иб трконнях тлом он ватасо ткинрс ноыи т дивене оляткес иуи жиляа шаной подемок ко днэ мошданиь в пможсоу ыодр огдасенняа в босолитляй тецзьн лрцси и по тлемой давьлисалнай пмивячка на втлевеь польнрсть мркой к лоур уатлр ыда в тпесзна р наыо витас хесел и лрл он втпоунис вдмры кек и почаур он тпил на в тпесзна шаня е в кегинала рсягке итчабсе т аыо сище он туомюис сог'"
            ],
            "application/vnd.google.colaboratory.intrinsic+json": {
              "type": "string"
            }
          },
          "metadata": {},
          "execution_count": 408
        }
      ]
    },
    {
      "cell_type": "code",
      "source": [
        "accuracy(text, decoded)"
      ],
      "metadata": {
        "colab": {
          "base_uri": "https://localhost:8080/"
        },
        "id": "zQDSqFGyhbR2",
        "outputId": "44b56e2f-b0f1-4faa-96a6-588768674885"
      },
      "execution_count": 409,
      "outputs": [
        {
          "output_type": "execute_result",
          "data": {
            "text/plain": [
              "0.5132890365448505"
            ]
          },
          "metadata": {},
          "execution_count": 409
        }
      ]
    },
    {
      "cell_type": "markdown",
      "source": [
        "### Bigramm"
      ],
      "metadata": {
        "id": "p6LqD_VOfej3"
      }
    },
    {
      "cell_type": "code",
      "source": [
        "transformer = FrequencyTransformer().fit(train_text_ru, Language.RU, 2)"
      ],
      "metadata": {
        "id": "vgXGu4XIRi-x"
      },
      "execution_count": 410,
      "outputs": []
    },
    {
      "cell_type": "code",
      "source": [
        "decoded = transformer.decode(text_encoded)\n",
        "decoded"
      ],
      "metadata": {
        "colab": {
          "base_uri": "https://localhost:8080/",
          "height": 89
        },
        "id": "CtdfqV-ZSGED",
        "outputId": "eb224492-be68-4fa1-e3b0-216c8ab02597"
      },
      "execution_count": 411,
      "outputs": [
        {
          "output_type": "execute_result",
          "data": {
            "text/plain": [
              "'едлабыра но нав со млива н рреиенежеоеисем ж не зай н он пи енраседи гй нав он д сто с вал кенражеиншехокаестаовсквотиитевтечапем норо номдо бст еаси егльоб пи  ввслеотадм омдо бст еаси аню  тк нии  лнябоа  ябеу л у и просогмоегльоб пи  вл ее демзн тк нии норо нь  оа о ринече чожойм о ав псвилогде сто саниз аавдуляде снороче ча ь ватеияичя ь  оа е сясаспбыуддройм то сенраогнылот олго ипось пшис я о икзалоос н иатстетннолокидужектаово днглмеочя  водми ттькототыкро с х веалимакку хо нау  бси вал ке зай н он пи о риих экиво  ь  тк ят со ивножаолиллива н вл ы  аринека  тожиде сийтуэты муа ма чот тть'"
            ],
            "application/vnd.google.colaboratory.intrinsic+json": {
              "type": "string"
            }
          },
          "metadata": {},
          "execution_count": 411
        }
      ]
    },
    {
      "cell_type": "code",
      "source": [
        "accuracy(text, decoded)"
      ],
      "metadata": {
        "colab": {
          "base_uri": "https://localhost:8080/"
        },
        "id": "JrASurYySHcA",
        "outputId": "5b0ecd28-725c-4880-a5e9-1a8cd5331d96"
      },
      "execution_count": 412,
      "outputs": [
        {
          "output_type": "execute_result",
          "data": {
            "text/plain": [
              "0.06976744186046512"
            ]
          },
          "metadata": {},
          "execution_count": 412
        }
      ]
    },
    {
      "cell_type": "markdown",
      "source": [
        "## MCMC"
      ],
      "metadata": {
        "id": "vgKkcWdpibM2"
      }
    },
    {
      "cell_type": "markdown",
      "source": [
        "- pick up a random current state.\n",
        "- swap two random letters in the current state -> new state proposal \n",
        "- calculate the score of the current state and the proposed state\n",
        "- if score is better, move to proposed state\n",
        "- else accept new state with prob (score of proposed state / score of current state)\n",
        "- repeat"
      ],
      "metadata": {
        "id": "yegc3bT8qp4b"
      }
    },
    {
      "cell_type": "code",
      "source": [
        "class MCMCDecoder:\n",
        "   ENG_ALPHABET = string.ascii_lowercase + ' '\n",
        "   RU_ALPHABET = 'абвгдеёжзийклмнопрстуфхцчшщъыьэюя' + ' '\n",
        "   EPS = 0.0000000001\n",
        "   \n",
        "   def __init__(self):\n",
        "        self.corpus = None\n",
        "        self.n_gram_size = None\n",
        "        self.freq_dict = None\n",
        "        self.n_iter = None\n",
        "\n",
        "   def fit(self, text: str, language: Language, n_gram_size: int = 1, n_iter=10000):\n",
        "        self.corpus = MCMCDecoder.ENG_ALPHABET if language == Language.EN else MCMCDecoder.RU_ALPHABET\n",
        "        self.n_gram_size = n_gram_size\n",
        "        temp = self._preprocess(text)\n",
        "        n_grams = self._get_ngrams(temp)\n",
        "        self.freq_dict = self._get_counter_dict(n_grams)\n",
        "        self.n_iter = n_iter\n",
        "\n",
        "        return self\n",
        "\n",
        "   def decode(self, text: str) -> str:\n",
        "       result = None\n",
        "       current = copy(text)\n",
        "       cur_score = self._score_log(current)\n",
        "       best_score = None\n",
        "       for it in range(self.n_iter):\n",
        "         text_candidate = self._get_new_state(current)\n",
        "         candidate_score = self._score_log(text_candidate)\n",
        "         if best_score is None or cur_score > best_score or self._should_accept(candidate_score, cur_score):\n",
        "           current = text_candidate\n",
        "           cur_score = candidate_score\n",
        "           if best_score is None or cur_score > best_score:\n",
        "             best_score = copy(cur_score)\n",
        "             result = copy(current)\n",
        "       return result\n",
        "                \n",
        "\n",
        "\n",
        "   def _get_new_state(self, text : str) -> str:\n",
        "     temp = copy(text)\n",
        "     letters = list(temp)\n",
        "     swaps = np.random.choice(list(self.corpus), 2, replace=False)\n",
        "     result = []\n",
        "     for letter in letters:\n",
        "       if letter == swaps[0]:\n",
        "         result += swaps[1]\n",
        "       elif letter == swaps[1]:\n",
        "         result += swaps[0]\n",
        "       else:\n",
        "         result += letter\n",
        "\n",
        "     return ''.join(result)\n",
        "\n",
        "        \n",
        "   def _score_log(self, text: str):\n",
        "        temp =  text + ' ' * (len(text) % self.n_gram_size)\n",
        "        n_grams = self._get_ngrams(temp)\n",
        "        proposed_count_dict = self._get_counter_dict(n_grams)\n",
        "        return np.sum([count * np.log(self.freq_dict.get(ngram,  MCMCDecoder.EPS)) \n",
        "                       for ngram, count in proposed_count_dict.items()])\n",
        "        \n",
        "   def _should_accept(self, candidate_score_log, cur_score_log):\n",
        "     return  np.random.rand() < np.exp(candidate_score_log - cur_score_log)\n",
        "    \n",
        "   def _get_ngrams(self, text):\n",
        "        return [text[i:i+self.n_gram_size] for i in range(len(text) - self.n_gram_size + 1)]\n",
        "  \n",
        "   def _get_counter_dict(self, ngrams):\n",
        "        return {k: v for k, v in sorted(Counter(ngrams).items(), key=lambda item: item[1], reverse=True)}\n",
        "\n",
        "   def _preprocess(self, text: str):\n",
        "        return ''.join([c for c in text.lower() if c in self.corpus]) \n",
        " "
      ],
      "metadata": {
        "id": "J1xKBpwttTGG"
      },
      "execution_count": 413,
      "outputs": []
    },
    {
      "cell_type": "code",
      "source": [
        "transformer = MCMCDecoder().fit(train_text_ru, Language.RU, 2, 40000)"
      ],
      "metadata": {
        "id": "p7_FkdtsuPvi"
      },
      "execution_count": 414,
      "outputs": []
    },
    {
      "cell_type": "code",
      "source": [
        "decoded = transformer.decode(text_encoded)\n",
        "decoded"
      ],
      "metadata": {
        "colab": {
          "base_uri": "https://localhost:8080/",
          "height": 107
        },
        "id": "M4OjvAwZPY_2",
        "outputId": "ec73880d-ec10-4d04-bb24-5f551e82dd9c"
      },
      "execution_count": 424,
      "outputs": [
        {
          "output_type": "stream",
          "name": "stderr",
          "text": [
            "/usr/local/lib/python3.7/dist-packages/ipykernel_launcher.py:64: RuntimeWarning: overflow encountered in exp\n"
          ]
        },
        {
          "output_type": "execute_result",
          "data": {
            "text/plain": [
              "'глаза степана аркадьича весело заблестели и он задумался улыбаясь да хорошо было очень хорошо много еще чтото там было отличного да не скажешь словами и мыслями даже наяву не выразишь и заметив полосу света пробившуюся сбоку одной из суконных стор он весело скинул ноги с дивана отыскал ими шитые женой подарок ко дню рождения в прошлом году обделанные в золотистый сафьян туфли и по старой девятилетней привычке не вставая потянулся рукой к тому месту где в спальне у него висел халат и тут он вспомнил вдруг как и почему он спит не в спальне жены а в кабинете улыбка исчезла с его лица он сморщил лоб'"
            ],
            "application/vnd.google.colaboratory.intrinsic+json": {
              "type": "string"
            }
          },
          "metadata": {},
          "execution_count": 424
        }
      ]
    },
    {
      "cell_type": "code",
      "source": [
        "accuracy(text, decoded)"
      ],
      "metadata": {
        "colab": {
          "base_uri": "https://localhost:8080/"
        },
        "id": "n_iVhav7czIB",
        "outputId": "5e67faad-5fe9-4291-8eab-c787a279b4f3"
      },
      "execution_count": 425,
      "outputs": [
        {
          "output_type": "execute_result",
          "data": {
            "text/plain": [
              "1.0"
            ]
          },
          "metadata": {},
          "execution_count": 425
        }
      ]
    },
    {
      "cell_type": "markdown",
      "source": [
        "## Secret word"
      ],
      "metadata": {
        "id": "lF8QddIuhbaP"
      }
    },
    {
      "cell_type": "code",
      "source": [
        "secret = '←⇠⇒↟↹↷⇊↹↷↟↤↟↨←↹↝⇛⇯↳⇴⇒⇈↝⇊↾↹↟⇒↟↹⇷⇛⇞↨↟↹↝⇛⇯↳⇴⇒⇈↝⇊↾↹↨←⇌⇠↨↹⇙↹⇸↨⇛↙⇛↹⇠⇛⇛↲⇆←↝↟↞↹⇌⇛↨⇛⇯⇊↾↹⇒←↙⇌⇛↹⇷⇯⇛⇞↟↨⇴↨⇈↹⇠⇌⇛⇯←←↹↷⇠←↙⇛↹↷⇊↹↷⇠←↹⇠↤←⇒⇴⇒↟↹⇷⇯⇴↷↟⇒⇈↝⇛↹↟↹⇷⇛⇒⇙⇞↟↨←↹↳⇴⇌⇠↟↳⇴⇒⇈↝⇊↾↹↲⇴⇒⇒↹⇰⇴↹⇷⇛⇠⇒←↤↝←←↹⇞←↨↷←⇯↨⇛←↹⇰⇴↤⇴↝↟←↹⇌⇙⇯⇠⇴↹↘⇛↨↞↹⇌⇛↝←⇞↝⇛↹↞↹↝↟⇞←↙⇛↹↝←↹⇛↲←⇆⇴⇏'\n",
        "secret_letters = list(set(secret))"
      ],
      "metadata": {
        "id": "EKLjVTO3VYcz"
      },
      "execution_count": 426,
      "outputs": []
    },
    {
      "cell_type": "code",
      "source": [
        "EN_ALPHABET = string.ascii_lowercase\n",
        "RU_ALPHABET =  'абвгдеёжзийклмнопрстуфхцчшщъыьэюя'\n",
        "\n",
        "print(len(EN_ALPHABET))\n",
        "print(len(RU_ALPHABET))\n",
        "print(len(secret_letters))"
      ],
      "metadata": {
        "colab": {
          "base_uri": "https://localhost:8080/"
        },
        "id": "ufJS_9cxo49c",
        "outputId": "59bc2df5-6d86-4550-8c24-ab21aef21a89"
      },
      "execution_count": 427,
      "outputs": [
        {
          "output_type": "stream",
          "name": "stdout",
          "text": [
            "26\n",
            "33\n",
            "28\n"
          ]
        }
      ]
    },
    {
      "cell_type": "code",
      "source": [
        "ru_map = {k:v for k, v in zip(secret_letters, RU_ALPHABET)}"
      ],
      "metadata": {
        "id": "9Y30t8rIe5S5"
      },
      "execution_count": 428,
      "outputs": []
    },
    {
      "cell_type": "code",
      "source": [
        "candidate_ru = ''.join([ru_map[x] for x in secret])"
      ],
      "metadata": {
        "id": "36RpcuIKfAHC"
      },
      "execution_count": 429,
      "outputs": []
    },
    {
      "cell_type": "code",
      "source": [
        "transformer = MCMCDecoder().fit(train_text_ru, Language.RU, 2, 80000)"
      ],
      "metadata": {
        "id": "IVfGaQGjfE1o"
      },
      "execution_count": 430,
      "outputs": []
    },
    {
      "cell_type": "code",
      "source": [
        "# need some luck to get a good result\n",
        "for _ in range(5):\n",
        "  decoded = transformer.decode(candidate_ru)\n",
        "  print(decoded)"
      ],
      "metadata": {
        "colab": {
          "base_uri": "https://localhost:8080/"
        },
        "id": "fwnIWlrXpLfN",
        "outputId": "86866aa5-7c7f-47b1-b292-7d49327b1334"
      },
      "execution_count": 431,
      "outputs": [
        {
          "output_type": "stream",
          "name": "stdout",
          "text": [
            "если вы вимите нордальный или почти нордальный текст у этого сообщения который легко прочитать скорее всего вы все смелали правильно и получите даксидальный балл за послемнее четвертое замание курса хотя конечно я ничего не обещаж\n",
            "если вы вимите нордальный или почти нордальный текст у этого сообщения который легко прочитать скорее всего вы все смелали правильно и получите даксидальный балл за послемнее четвертое замание курса хотя конечно я ничего не обещаж\n",
            "оилаврявражатовн спельнязвалавы ктавн спельнязвтомитвувчт й ви  бгонадвм т сязвлойм выс катетьвим соовриой врявриовижолелавысеральн вавы лукатовпемиапельнязвбеллвшевы иложноовкотрост овшеженаовмусиевх тдвм нокн вдвнакой внов богещ\n",
            "натерждржелеонри зяствидпретерь моери зяствидпронкаоруршо ч ра  быниегрк о здпртнчк рьз меосоврак зннржанч рждржанралнтстерьзсжетви рерь тумеонряскаеяствидпрбсттрюсрь атнлиннрмножнзо нрюслсиенркузасрх огрк инми ргриемнч ринр бнысё\n",
            "если вы вимите нордальный или почти нордальный текст у этого сообщения который легко прочитать скорее всего вы все смелали правильно и получите даксидальный балл за послемнее четвертое замание курса хотя конечно я ничего не обещаж\n"
          ]
        }
      ]
    },
    {
      "cell_type": "code",
      "source": [
        ""
      ],
      "metadata": {
        "id": "m-8Wj9_WyV0P"
      },
      "execution_count": null,
      "outputs": []
    }
  ]
}